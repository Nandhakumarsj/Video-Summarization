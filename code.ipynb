{
 "cells": [
  {
   "cell_type": "code",
   "execution_count": 3,
   "metadata": {},
   "outputs": [],
   "source": [
    "import cv2\n",
    "import numpy as np\n",
    "import time"
   ]
  },
  {
   "cell_type": "code",
   "execution_count": 4,
   "metadata": {},
   "outputs": [
    {
     "name": "stdout",
     "output_type": "stream",
     "text": [
      "Total Frames                  :7166\n",
      "Unique Frames                 :3792\n",
      "Same Frames                   :3374\n"
     ]
    }
   ],
   "source": [
    "video = cv2.VideoCapture(\"videoplayback.mp4\")\n",
    "width = int(video.get(cv2.CAP_PROP_FRAME_WIDTH))\n",
    "height = int(video.get(cv2.CAP_PROP_FRAME_HEIGHT))\n",
    "threshold = 42\n",
    "\n",
    "writer = cv2.VideoWriter(\n",
    "    'summary.mp4', cv2.VideoWriter_fourcc(*\"DIVX\"), 25, (width, height))\n",
    "ret, _frame = video.read()\n",
    "prev_frame = _frame\n",
    "\n",
    "unique_frames = 0\n",
    "same_frames = 0\n",
    "total_frames = 0\n",
    "while True:\n",
    "    ret, frame = video.read()\n",
    "    if ret == True:\n",
    "        if (np.sum(np.absolute(frame-prev_frame))/np.size(frame)) > threshold:\n",
    "            writer.write(frame)\n",
    "            unique_frames += 1\n",
    "        else:\n",
    "            same_frames += 1\n",
    "        prev_frame = frame\n",
    "        cv2.imshow('frame', frame)\n",
    "        total_frames += 1\n",
    "    if cv2.waitKey(1) & 0xFF == ord('q'):\n",
    "        break\n",
    "\n",
    "print(f'{\"Total Frames\":<30}:{total_frames}\\n{\"Unique Frames\":<30}:{unique_frames}\\n{\"Same Frames\":<30}:{same_frames}')\n",
    "video.release()\n",
    "writer.release()\n",
    "cv2.destroyAllWindows()"
   ]
  }
 ],
 "metadata": {
  "kernelspec": {
   "display_name": "deeplearning",
   "language": "python",
   "name": "python3"
  },
  "language_info": {
   "codemirror_mode": {
    "name": "ipython",
    "version": 3
   },
   "file_extension": ".py",
   "mimetype": "text/x-python",
   "name": "python",
   "nbconvert_exporter": "python",
   "pygments_lexer": "ipython3",
   "version": "3.10.13"
  }
 },
 "nbformat": 4,
 "nbformat_minor": 2
}
